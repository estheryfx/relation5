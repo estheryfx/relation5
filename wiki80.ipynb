{
 "cells": [
  {
   "cell_type": "code",
   "execution_count": 53,
   "metadata": {},
   "outputs": [],
   "source": [
    "import json\n",
    "\n",
    "\n",
    "\n",
    "def replace_text(text):\n",
    "    text = text.replace(\" . \",\". \").replace(\" .\",\".\").replace(\" , \",\", \").replace(\" ,\",\",\").replace(\" - \",\"-\").replace(\" / \",\"/\").replace(\" – \",\"–\")\n",
    "    text = text.replace(\" \\\" \",\" \\\"\").replace(\" ( \",\" (\").replace(\" ) \",\") \").replace(\" ), \",\"), \").replace(\" \\\".\",\"\\\".\")\n",
    "    text = text.replace(\" ' \",\"' \")\n",
    "    return text\n",
    "\n",
    "tlist = []\n",
    "han = 0\n",
    "zong = 0\n",
    "path = open(\"data/train.csv\",\"w+\")\n",
    "with open(\"data/wiki80_train.txt\") as f:\n",
    "    for i in f:\n",
    "        i = json.loads(i.strip())\n",
    "        token = replace_text(\" \".join(i[\"token\"]).lower())\n",
    "        h = replace_text(i[\"h\"][\"name\"])\n",
    "        t = replace_text(i[\"t\"][\"name\"])\n",
    "        tmp = {}\n",
    "        if h in token and t in token:\n",
    "            tmp[\"text\"] = token\n",
    "            tmp[\"h\"] = h\n",
    "            tmp[\"t\"] = t\n",
    "            tmp[\"relation\"] = i[\"relation\"]\n",
    "            tlist.append(i[\"relation\"])\n",
    "            path.write(json.dumps(tmp)+\"\\n\")\n",
    "path.close()\n",
    "            \n"
   ]
  },
  {
   "cell_type": "code",
   "execution_count": 54,
   "metadata": {},
   "outputs": [
    {
     "name": "stdout",
     "output_type": "stream",
     "text": [
      "5539\n"
     ]
    }
   ],
   "source": [
    "import json\n",
    "\n",
    "\n",
    "\n",
    "def replace_text(text):\n",
    "    text = text.replace(\" . \",\". \").replace(\" .\",\".\").replace(\" , \",\", \").replace(\" ,\",\",\").replace(\" - \",\"-\").replace(\" / \",\"/\").replace(\" – \",\"–\")\n",
    "    text = text.replace(\" \\\" \",\" \\\"\").replace(\" ( \",\" (\").replace(\" ) \",\") \").replace(\" ), \",\"), \").replace(\" \\\".\",\"\\\".\")\n",
    "    text = text.replace(\" ' \",\"' \")\n",
    "    return text\n",
    "\n",
    "tlist = []\n",
    "han = 0\n",
    "zong = 0\n",
    "path = open(\"data/val.csv\",\"w+\")\n",
    "with open(\"data/wiki80_val.txt\") as f:\n",
    "    for i in f:\n",
    "        i = json.loads(i.strip())\n",
    "        token = replace_text(\" \".join(i[\"token\"]).lower())\n",
    "        h = replace_text(i[\"h\"][\"name\"])\n",
    "        t = replace_text(i[\"t\"][\"name\"])\n",
    "        tmp = {}\n",
    "        if h in token and t in token:\n",
    "            tmp[\"text\"] = token\n",
    "            tmp[\"h\"] = h\n",
    "            tmp[\"t\"] = t\n",
    "            tmp[\"relation\"] = i[\"relation\"]\n",
    "            path.write(json.dumps(tmp)+\"\\n\")\n",
    "            han +=1\n",
    "path.close()\n",
    "print(han)"
   ]
  },
  {
   "cell_type": "code",
   "execution_count": 56,
   "metadata": {},
   "outputs": [
    {
     "name": "stdout",
     "output_type": "stream",
     "text": [
      "0\n"
     ]
    }
   ],
   "source": [
    "# 判断 关系是否都在 \n",
    "relation = {\"place served by transport hub\": 0, \"mountain range\": 1, \"religion\": 2, \"participating team\": 3, \"contains administrative territorial entity\": 4, \"head of government\": 5, \"country of citizenship\": 6, \"original network\": 7, \"heritage designation\": 8, \"performer\": 9, \"participant of\": 10, \"position held\": 11, \"has part\": 12, \"location of formation\": 13, \"located on terrain feature\": 14, \"architect\": 15, \"country of origin\": 16, \"publisher\": 17, \"director\": 18, \"father\": 19, \"developer\": 20, \"military branch\": 21, \"mouth of the watercourse\": 22, \"nominated for\": 23, \"movement\": 24, \"successful candidate\": 25, \"followed by\": 26, \"manufacturer\": 27, \"instance of\": 28, \"after a work by\": 29, \"member of political party\": 30, \"licensed to broadcast to\": 31, \"headquarters location\": 32, \"sibling\": 33, \"instrument\": 34, \"country\": 35, \"occupation\": 36, \"residence\": 37, \"work location\": 38, \"subsidiary\": 39, \"participant\": 40, \"operator\": 41, \"characters\": 42, \"occupant\": 43, \"genre\": 44, \"operating system\": 45, \"owned by\": 46, \"platform\": 47, \"tributary\": 48, \"winner\": 49, \"said to be the same as\": 50, \"composer\": 51, \"league\": 52, \"record label\": 53, \"distributor\": 54, \"screenwriter\": 55, \"sports season of league or competition\": 56, \"taxon rank\": 57, \"location\": 58, \"field of work\": 59, \"language of work or name\": 60, \"applies to jurisdiction\": 61, \"notable work\": 62, \"located in the administrative territorial entity\": 63, \"crosses\": 64, \"original language of film or TV show\": 65, \"competition class\": 66, \"part of\": 67, \"sport\": 68, \"constellation\": 69, \"position played on team / speciality\": 70, \"located in or next to body of water\": 71, \"voice type\": 72, \"follows\": 73, \"spouse\": 74, \"military rank\": 75, \"mother\": 76, \"member of\": 77, \"child\": 78, \"main subject\": 79}\n",
    "\n",
    "k = 0\n",
    "for i in tlist:\n",
    "    if i not in relation:\n",
    "        k +=1\n",
    "print(k)"
   ]
  },
  {
   "cell_type": "code",
   "execution_count": 57,
   "metadata": {},
   "outputs": [
    {
     "data": {
      "text/plain": [
       "80"
      ]
     },
     "execution_count": 57,
     "metadata": {},
     "output_type": "execute_result"
    }
   ],
   "source": [
    "len(relation)"
   ]
  },
  {
   "cell_type": "code",
   "execution_count": 58,
   "metadata": {},
   "outputs": [
    {
     "data": {
      "text/plain": [
       "[2, 3, 4]"
      ]
     },
     "execution_count": 58,
     "metadata": {},
     "output_type": "execute_result"
    }
   ],
   "source": [
    "a = [1,2,3,4,5]\n",
    "a[1:-1]"
   ]
  },
  {
   "cell_type": "code",
   "execution_count": 63,
   "metadata": {},
   "outputs": [],
   "source": [
    "path = open(\"decoded1.txt\",\"w+\")\n",
    "strt = \"\"\n",
    "with open(\"decoded.txt\") as f:\n",
    "    for i in f:\n",
    "        i = i.strip().split(\"\\t\")\n",
    "        if len(i) > 3:\n",
    "            strt+=i[2]+\" \"\n",
    "        else:\n",
    "            path.write(strt.strip().lower()+\"\\n\")\n",
    "            strt = \"\"\n",
    "path.close()"
   ]
  },
  {
   "cell_type": "code",
   "execution_count": null,
   "metadata": {},
   "outputs": [],
   "source": [
    "import keras"
   ]
  },
  {
   "cell_type": "code",
   "execution_count": 5,
   "metadata": {},
   "outputs": [
    {
     "data": {
      "text/plain": [
       "False"
      ]
     },
     "execution_count": 5,
     "metadata": {},
     "output_type": "execute_result"
    }
   ],
   "source": [
    "a = [1,2]\n",
    "b = [1,1]\n",
    "b = set(b)\n",
    "a = \n",
    "b in a"
   ]
  },
  {
   "cell_type": "code",
   "execution_count": null,
   "metadata": {},
   "outputs": [],
   "source": []
  }
 ],
 "metadata": {
  "kernelspec": {
   "display_name": "Python 3",
   "language": "python",
   "name": "python3"
  },
  "language_info": {
   "codemirror_mode": {
    "name": "ipython",
    "version": 3
   },
   "file_extension": ".py",
   "mimetype": "text/x-python",
   "name": "python",
   "nbconvert_exporter": "python",
   "pygments_lexer": "ipython3",
   "version": "3.7.3"
  }
 },
 "nbformat": 4,
 "nbformat_minor": 2
}
